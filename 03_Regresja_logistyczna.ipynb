{
  "nbformat": 4,
  "nbformat_minor": 0,
  "metadata": {
    "colab": {
      "name": "03_Regresja_logistyczna.ipynb",
      "provenance": [],
      "collapsed_sections": []
    },
    "kernelspec": {
      "display_name": "Python [conda root]",
      "language": "python",
      "name": "conda-root-py"
    }
  },
  "cells": [
    {
      "cell_type": "markdown",
      "metadata": {
        "id": "oMv_I3EiF6Rd"
      },
      "source": [
        "# Regresja logistyczna, walidacja, krzywe ROC"
      ]
    },
    {
      "cell_type": "markdown",
      "metadata": {
        "id": "yJjklVp9F6Rg"
      },
      "source": [
        "## Część I: regresja logistyczna\n",
        "Ten notebook pomoże Ci zapoznać się z regresją logistyczną. \n",
        "\n",
        "Zbudujemy klasyfikator bazujący na regresji logistycznej. Jego zadaniem będzie określanie prawdopodobieństwa przyjęcia kandydata na studia na podstawie wyników z dwóch egzaminów maturalnych (każdy przeskalowany na zakres 0-100%): z matematyki i z biologii. \n",
        "\n",
        "Trzeba będzie uzupełnić kody funkcji:\n",
        "*     sigmoida\n",
        "*     funkcjaKosztu\n",
        "*     predykcja\n",
        "*     funkcjaKosztuReg"
      ]
    },
    {
      "cell_type": "markdown",
      "metadata": {
        "id": "qpPO3J51F6Rj"
      },
      "source": [
        "Zanim przejdziemy do właściwych zadań zaimportujmy potrzebne moduły:"
      ]
    },
    {
      "cell_type": "code",
      "metadata": {
        "id": "8JCVALLJF6Rm"
      },
      "source": [
        "import matplotlib\n",
        "import numpy as np\n",
        "import pylab as plt\n",
        "import scipy.optimize as so\n",
        "from ipywidgets import FloatProgress\n",
        "from IPython.display import display"
      ],
      "execution_count": null,
      "outputs": []
    },
    {
      "cell_type": "markdown",
      "metadata": {
        "id": "WepJQFSkkMRK"
      },
      "source": [
        "Dane do ćwiczenia zostały już opracowane przez wykładowcę i znajdują się w pliku:\n",
        "\n",
        "https://brain.fuw.edu.pl/edu/images/d/d8/Reg_log_data1.txt.\n",
        "\n",
        "Można je pobrać i zapisać na dysku Google'a (lub w bieżącym katalogu, jeśli pracujecie lokalnie), a następnie go podłączyć. Można załadować do bieżącej sesji Colaba. No i można pobrać z GitHuba. Dokładniejszy opis był na pierwszych zajęciach!"
      ]
    },
    {
      "cell_type": "code",
      "metadata": {
        "id": "j7Oda1zC_HAQ"
      },
      "source": [
        "!git clone https://github.com/Shmoo137/uczenie-maszynowe-2021-22"
      ],
      "execution_count": null,
      "outputs": []
    },
    {
      "cell_type": "code",
      "metadata": {
        "id": "aGWrjsn6CDAw"
      },
      "source": [
        "folder = '/content/uczenie-maszynowe-2021-22/dane/' # tu się domyślnie zapisuje pobrane repo z GitHuba"
      ],
      "execution_count": null,
      "outputs": []
    },
    {
      "cell_type": "markdown",
      "metadata": {
        "id": "lysXJ3KrF6Rw"
      },
      "source": [
        "##  Wczytanie danych\n",
        "\n",
        "Zawsze dobrze jest rozpocząć pracę od zapoznania się z danymi. W tym celu powinniśmy poznać strukturę danych: \n",
        "* Pierwsze dwie kolumny zawierają wyniki egzaminów (pierwsza z matematyki, druga z biologii),\n",
        "* Trzecia kolumna zawiera etykietę (przynależność do grupy), po ang. *labels*\n",
        "\n",
        "Wczytajmy dane i zobaczmy pierwsze 10 linii."
      ]
    },
    {
      "cell_type": "code",
      "metadata": {
        "id": "R7Kho7fTF6Ry"
      },
      "source": [
        "data = np.loadtxt(folder + 'reg_log_data.txt',delimiter=',')\n",
        "print(data[:10,:])"
      ],
      "execution_count": null,
      "outputs": []
    },
    {
      "cell_type": "markdown",
      "metadata": {
        "id": "tK8shSDdF6R2"
      },
      "source": [
        "Aby łatwiej było się nimi posługiwać wydzielmy z nich dane wejściowe jako 'X' i wyjściowe jako 'Y':"
      ]
    },
    {
      "cell_type": "code",
      "metadata": {
        "id": "AynkbufIF6R3"
      },
      "source": [
        "X = \n",
        "y = "
      ],
      "execution_count": null,
      "outputs": []
    },
    {
      "cell_type": "markdown",
      "metadata": {
        "id": "lzoi2OTNF6R7"
      },
      "source": [
        "O ile poziom skomplikowania problemu na to pozwala, zawsze dobrze jest zyskać dodatkową intuicję co do danych przez zobrazowanie ich. Zróbmy wykres punktowy (plt.scatter), w którym:\n",
        "* żółty symbol oznacza przykłady gdzie y = 1 (przyjęty na studia) zaś \n",
        "* niebieski te z y = 0 (nieprzyjęty na studia)"
      ]
    },
    {
      "cell_type": "code",
      "metadata": {
        "id": "FtNRta2aF6R8"
      },
      "source": [
        "plt.figure()\n",
        "plt.scatter(wynik z matematyki, wynik z biologii, c=?, cmap=plt.cm.Set3)\n",
        "plt.xlabel('wynik z matematyki')\n",
        "plt.ylabel('wynik z biologii')"
      ],
      "execution_count": null,
      "outputs": []
    },
    {
      "cell_type": "markdown",
      "metadata": {
        "id": "4pqxAPGYF6R_"
      },
      "source": [
        "Jak na poprzednich ćwiczeniach, wykorzystywany model ma wyraz wolny. Robimy to samo, co ostatnio, czyli aby wygodnie można było stosować oblicznia wektorowe do regresji logistycznej, to zmodyfikujemy macierz wejść X poprzez dodanie do niej z lewej strony kolumny jedynek. Będą one mnożyły  parametr $\\theta_0$:"
      ]
    },
    {
      "cell_type": "code",
      "metadata": {
        "id": "1HZTsg1QF6SB"
      },
      "source": [
        "N = len(y) # liczba przykładów w zbiorze uczącym\n",
        "XX = np.concatenate((np.ones((N,1)), X),axis = 1)"
      ],
      "execution_count": null,
      "outputs": []
    },
    {
      "cell_type": "markdown",
      "metadata": {
        "id": "7ujVHfntF6SD"
      },
      "source": [
        "Zobaczmy jak teraz wygląda macierz XX:    "
      ]
    },
    {
      "cell_type": "code",
      "metadata": {
        "id": "-GgrSxbMF6SE"
      },
      "source": [
        "print(XX[:10,:])"
      ],
      "execution_count": null,
      "outputs": []
    },
    {
      "cell_type": "markdown",
      "metadata": {
        "id": "KCic0Ta2F6SH"
      },
      "source": [
        "## Hipoteza\n",
        "Dla przypomnienia _hipoteza_ w regresji logistycznej ma postać: \n",
        "\n",
        "$\\qquad$ $h_\\theta(x) = \\frac{1}{1+\\exp(-\\theta^Tx)}$.\n",
        "\n",
        "W implementacji dobrze jest myśleć o tej funkcji tak:\n",
        "\n",
        "$\\qquad$ $h_\\theta(x) = \\frac{1}{1+f}$.\n",
        "\n",
        "gdzie: $f = \\exp(-\\theta^Tx)$\n",
        "\n",
        "* zaimplementuj  hipotezę dla regresji logistycznej, \n",
        "* ze względu na stabilność numeryczną obliczeń dobrze jest ograniczyć zakres zmienności $f$ np do zakresu [1e-8, 1e+8]:"
      ]
    },
    {
      "cell_type": "code",
      "metadata": {
        "id": "0lcVAq06F6SI"
      },
      "source": [
        "def hipoteza(x, theta):\n",
        "    '''ta funkcja zwraca wartość hipotezy dla danego wejścia x i parametrów theta'''\n",
        "    f = np.exp(...)\n",
        "    if f < 1e-8:\n",
        "        f = 1e-8\n",
        "    if f > 1e8:\n",
        "        f = 1e8 \n",
        "    h = 1/(1+f)\n",
        "    return h"
      ],
      "execution_count": null,
      "outputs": []
    },
    {
      "cell_type": "markdown",
      "metadata": {
        "id": "rAdRxKnlF6SL"
      },
      "source": [
        "Przetestuj funkcję:"
      ]
    },
    {
      "cell_type": "code",
      "metadata": {
        "id": "JosEFcAdF6SM"
      },
      "source": [
        "H0 = hipoteza(XX[0,:], np.zeros((3, 1)))\n",
        "print('wartość hipotezy dla zerowego przykładu i dla początkowej thety: '+ str(H0))"
      ],
      "execution_count": null,
      "outputs": []
    },
    {
      "cell_type": "markdown",
      "metadata": {
        "id": "5LRjnS80F6SO"
      },
      "source": [
        "Powino wyjść:\n",
        "\n",
        "```wartość hipotezy dla zerowego przykładu i dla początkowej thety: [ 0.5]```"
      ]
    },
    {
      "cell_type": "markdown",
      "metadata": {
        "id": "ARAowqB7F6SP"
      },
      "source": [
        "## Funkcja log-wiarygodności: \n",
        "* parametry regresji znajdujemy przez maksymalizację [funkcji log-wiarygodności](https://brain.fuw.edu.pl/edu/index.php/Uczenie_maszynowe_i_sztuczne_sieci_neuronowe/Wykład_6#Funkcja_wiarygodno.C5.9Bci):\n",
        "\n",
        "$\\qquad$ $l(\\theta) = \\log L(\\theta) = \\sum_{j=1}^m y^{(j)} \\log h(x^{(j)}) + (1 - y^{(j)}) \\log (1 - h(x^{(j)}))$"
      ]
    },
    {
      "cell_type": "code",
      "metadata": {
        "id": "BXfgc2lvF6SQ"
      },
      "source": [
        "def funkcjaLogWiarygodnosci(theta, X, y):\n",
        "    '''Ta funkcja oblicza wartość funkcji log-wiarygodności  dla regresji logistycznej\n",
        "    używając theta jako parametrów oraz X i y jako zbioru uczącego'''\n",
        "    l=0.0\n",
        "    # pętla po przykładach ze zbioru uczącego\n",
        "    for j in range(len(y)): \n",
        "        h = hipoteza(...)\n",
        "        l +=  ...   \n",
        "    return l   "
      ],
      "execution_count": null,
      "outputs": []
    },
    {
      "cell_type": "markdown",
      "metadata": {
        "id": "7pCk325NF6SS"
      },
      "source": [
        "W tym ćwiczeniu zrobimy to za pomocą funkcji optymalizacyjnych z modułu [<tt>scipy.optimize</tt>]( http://docs.scipy.org/doc/scipy/reference/optimize.html#module-scipy.optimize). \n",
        "\n",
        "Wynikają z tego dwie konsekwencje:\n",
        "* Funkcje te są przystosowane do szukania minimów funkcji celu. Musimy więc podawać im jako argumenty funkcję minus log-wiarygodności"
      ]
    },
    {
      "cell_type": "code",
      "metadata": {
        "id": "3Mi44eHCF6ST"
      },
      "source": [
        "def minusFunkcjaLogWiarygodnosci(theta, X, y):\n",
        "    return (-1.)*funkcjaLogWiarygodnosci(theta, X, y)"
      ],
      "execution_count": null,
      "outputs": []
    },
    {
      "cell_type": "markdown",
      "metadata": {
        "id": "iay6KBUMF6SV"
      },
      "source": [
        "* Niektóre algorytmy mogą działać szybciej jeśli zaimplementujemy jawnie postać pochodnej:\n",
        "\n",
        "$\\qquad$ $\n",
        "\\begin{array}{lcl}\n",
        "\\frac{\\partial}{\\partial \\theta_i} l(\\theta)  =\\sum_{j=1}^m (y^{(j)}-h_\\theta(x^{(j)}))x_i^{(j)}\n",
        "\\end{array}\n",
        "$"
      ]
    },
    {
      "cell_type": "code",
      "metadata": {
        "id": "44yLZs7gF6SW"
      },
      "source": [
        "def pochodnaLogWiarygodnosci(theta, X, y):\n",
        "    '''ta funkcja oblicza wartość pochodnej funkcji log-wiarygodności\n",
        "    dla podaanych wartości theta, X i y'''\n",
        "    dl_dtheta = np.zeros(len(theta))\n",
        "    for i in range(len(theta)): # dla i-tej współrzędnej theta\n",
        "        for j in range(len(y)):  # dodajemy przyczynki od przykładu j-ego \n",
        "            h = ...\n",
        "            dl_dtheta[i] += ...\n",
        "    return dl_dtheta"
      ],
      "execution_count": null,
      "outputs": []
    },
    {
      "cell_type": "code",
      "metadata": {
        "id": "vdkD82ifF6Sa"
      },
      "source": [
        "def minusPochodnaLogWiarygodnosci(theta, X, y):\n",
        "    return (-1)*pochodnaLogWiarygodnosci(theta, X, y)"
      ],
      "execution_count": null,
      "outputs": []
    },
    {
      "cell_type": "markdown",
      "metadata": {
        "id": "HgN1eW3HF6Sc"
      },
      "source": [
        "Inicjujemy parametry $\\theta$ na wartości 0:"
      ]
    },
    {
      "cell_type": "code",
      "metadata": {
        "id": "damrMeVNF6Sd"
      },
      "source": [
        "xDim = XX.shape[1] # rozmiar wejścia rozszerzonego o jedynki\n",
        "theta0 = np.zeros((xDim, 1));"
      ],
      "execution_count": null,
      "outputs": []
    },
    {
      "cell_type": "markdown",
      "metadata": {
        "id": "CaZf-dG6F6Sg"
      },
      "source": [
        "Zobaczmy jak wygląda początkowa $\\theta$:"
      ]
    },
    {
      "cell_type": "code",
      "metadata": {
        "id": "CSmpiyhxF6Sh"
      },
      "source": [
        "print(theta0)"
      ],
      "execution_count": null,
      "outputs": []
    },
    {
      "cell_type": "markdown",
      "metadata": {
        "id": "0KqdoKfpF6Sm"
      },
      "source": [
        "Obliczamy funkcje log-wiarygodności i jej pochodną dla danych początkowych:"
      ]
    },
    {
      "cell_type": "code",
      "metadata": {
        "id": "F3UZIocHF6So"
      },
      "source": [
        "logWiar = funkcjaLogWiarygodnosci(theta0, XX, y)\n",
        "pochLogWiar = pochodnaLogWiarygodnosci(theta0, XX, y)\n",
        "\n",
        "print( 'wartość log-wiarygodności dla początkowej thety: '+ str(logWiar))\n",
        "print( 'pochodna log-wiarygodnosci dla poczatkowej thety: '+ str(pochLogWiar))"
      ],
      "execution_count": null,
      "outputs": []
    },
    {
      "cell_type": "markdown",
      "metadata": {
        "id": "bXwTaW4uF6St"
      },
      "source": [
        "Przy prawidłowej implementacji pownino wyjść:\n",
        "```\n",
        "wartość log-wiarygodności dla początkowej thety: [-69.31471806]\n",
        "pochodna log-wiarygodnosci dla poczatkowej thety: [   10.          1200.92165893  1126.28422055]\n",
        "```"
      ]
    },
    {
      "cell_type": "markdown",
      "metadata": {
        "id": "cxsFdI1sF6Sv"
      },
      "source": [
        "## Optymalizacja  \n",
        "\n",
        "* Funkcje optymalizujące zaczerpniemy z modułu scipy.optimize\n",
        "* Ponieważ funkcje te są zaimplementowane do mnimalizowania to zamiast maksymalizować funkcję low-wiarygodności będziemy minimalizować tą funkcje przemnożoną przez -1 czyli minusFunkcjaLogWiarygodnosci fprime=minusPochodnaLogWiarygodnosci,"
      ]
    },
    {
      "cell_type": "code",
      "metadata": {
        "id": "5oI_My7cF6Sw"
      },
      "source": [
        "theta_opt = so.fmin_bfgs(minusFunkcjaLogWiarygodnosci, theta0, \n",
        "                         fprime=minusPochodnaLogWiarygodnosci, \n",
        "                         args=(XX,y), disp= True)"
      ],
      "execution_count": null,
      "outputs": []
    },
    {
      "cell_type": "markdown",
      "metadata": {
        "id": "lTnSjRcxF6Sz"
      },
      "source": [
        "Wypiszmy dopasowane $\\theta$:"
      ]
    },
    {
      "cell_type": "code",
      "metadata": {
        "id": "aA1GAYOKF6S1"
      },
      "source": [
        "print( 'Wartość log wiarygodnosci  dla optymalnych parametrów: '+\n",
        "      str(funkcjaLogWiarygodnosci(theta_opt, XX, y)))\n",
        "print( 'theta: '+str(theta_opt))"
      ],
      "execution_count": null,
      "outputs": []
    },
    {
      "cell_type": "markdown",
      "metadata": {
        "id": "UtH3eaZOF6S4"
      },
      "source": [
        "## Wyniki\n",
        "Wyniki regresji logistycznej możemy odbierać na dwa sposoby:\n",
        "* obliczyć wartość hipotezy dla badanego wejścia i dopasowanych parametrów: miara ta ma interpretację prawdopodobieństwa przynależności wejścia do klasy 1,\n",
        "* dopisać funkcję wykonującą klasyfikację, tzn. porównanie wartości hipotezy z 1/2: \n",
        "  * dla wartości hipotezy > 1/2 klasyfikacja zwraca 1, \n",
        "  * w przeciwnym razie 0."
      ]
    },
    {
      "cell_type": "code",
      "metadata": {
        "id": "FyxS8yVTF6S5"
      },
      "source": [
        "def klasyfikacja(testX, theta):\n",
        "    ''' Ta funkcja zwraca wynik klasyfikacji przykładu testX przy parametrach theta.\n",
        "    Po obliczeniu hipotezy, jeśli otrzymane prawdopodobieństwo jest większe niż 0.5 to \n",
        "    zwraca 1 w przeciwnym wypadku zwraca 0'''\n",
        "    h = ...\n",
        "    if h > ... :\n",
        "        klasa = ...\n",
        "    else:\n",
        "        klasa = ...\n",
        "        \n",
        "    return klasa"
      ],
      "execution_count": null,
      "outputs": []
    },
    {
      "cell_type": "markdown",
      "metadata": {
        "id": "rUmEhM5WF6S8"
      },
      "source": [
        "## Przewidywanie \n",
        "Po dopasowaniu parametrów nadszedł czas aby zrobić predykcję.\n",
        "Obliczmy jakie prawdopodobieństwo przyjęcia ma kandydat z wynikami\n",
        "* 20 z matematyki\n",
        "*  80 z biologii\n",
        "Do przewidywania wykorzystujemy funkcję hipoteza, bo zgodnie z naszą interpretacją daje ona prawdopodobieństwo przyjęcia"
      ]
    },
    {
      "cell_type": "code",
      "metadata": {
        "id": "09jECLgbF6S9"
      },
      "source": [
        "prob = hipoteza([1, 20, 80], theta_opt)\n",
        "print('dla kandydata z wymnikami 20 z matematyki i 80 z biologii prawdopodobieństwo przyjęcia wynosi: ' +str(prob))"
      ],
      "execution_count": null,
      "outputs": []
    },
    {
      "cell_type": "markdown",
      "metadata": {
        "id": "ySrS9jrgF6TA"
      },
      "source": [
        "Używając funkcji <tt>klasyfikacja</tt> dostaniemy klasę:\n",
        "    "
      ]
    },
    {
      "cell_type": "code",
      "metadata": {
        "id": "uWmfzR4kF6TB"
      },
      "source": [
        "klasa = klasyfikacja([1, 20, 80], theta_opt)\n",
        "print('kandydat zalicza się do klasy: ' +str(klasa))"
      ],
      "execution_count": null,
      "outputs": []
    },
    {
      "cell_type": "markdown",
      "metadata": {
        "id": "YtZFghLDF6TE"
      },
      "source": [
        "Narysujmy uzyskany podział. Na tle punktów pokolorowanych zgodnie z przynalenością do klas dorysujemy prostą rozgraniczającą obszary \"1\" od \"0\".   Ma ona równanie \n",
        "\n",
        "$\\qquad$ $h_\\theta(x)=1/2$, \n",
        "\n",
        "tzn:\n",
        "\n",
        "$\\qquad$ $\\theta^T x = 0$\n",
        "\n",
        "czyli \n",
        "\n",
        "$\\theta_0 +\\theta_1 x_1 + \\theta_2 x_2 =0 $\n",
        "\n",
        "Przekształcając to do równania prostej we współrzędnych $(x_1,x_2)$ mamy:\n",
        "\n",
        "$- \\theta_2 x_2 = \\theta_0 +\\theta_1 x_1 $\n",
        "\n",
        "$ x_2 = - \\frac{1}{\\theta_2}( \\theta_0 +\\theta_1 x_1 )$"
      ]
    },
    {
      "cell_type": "code",
      "metadata": {
        "id": "CRMjxktIF6TF"
      },
      "source": [
        "plt.figure()\n",
        "plt.scatter(X[:, 0], X[:, 1], c=y, cmap=plt.cm.Set3)\n",
        "plt.xlabel('wynik z matematyki')\n",
        "plt.ylabel('wynik z biologii')\n",
        "\n",
        "x_plot = np.array([np.min(X[:,1]), np.max(X[:,1])])\n",
        "y_plot = -1./theta_opt[2]*(theta_opt[1]*x_plot + theta_opt[0])\n",
        "\n",
        "plt.plot(x_plot,y_plot,'b')"
      ],
      "execution_count": null,
      "outputs": []
    },
    {
      "cell_type": "markdown",
      "metadata": {
        "id": "U8EZX9WNF6TH"
      },
      "source": [
        "## Walidacja\n",
        "Teoria do tej części znajduje się tu:\n",
        "\n",
        "https://brain.fuw.edu.pl/edu/index.php/Uczenie_maszynowe_i_sztuczne_sieci_neuronowe/Wykład_Ocena_jakości_klasyfikacji"
      ]
    },
    {
      "cell_type": "markdown",
      "metadata": {
        "id": "qzYhR3-IF6TI"
      },
      "source": [
        "### Zastosowanie w naszym przykładzie\n",
        "Dodamy teraz kross-walidację typu leave-one-out.\n",
        "Po kolei odłożymy po jednym przykładzie ze zbioru uczącego i na takim zredukownaym zbiorze nauczymy regresję, a następnie sprawdzimy która z poniższych możliwych sytuacji zachodzi:\n",
        "* TP:  stan faktyczny jest pozytywny (y=1) i klasyfikator się nie myli (wynik = 1)\n",
        "* TN:  stan faktyczny jest negatywny (y=0) i klasyfikator się nie myli (wynik = 0) \n",
        "* FP:   wynik fałszywie pozytywny (fałszywy alarm): stan faktyczny jest negatywny (y=0) ale klasyfikator się  myli (wynik = 1)\n",
        "* FN: przegapiony alarm: stan faktyczny jest pozytywny (y=1) i klasyfikator się myli (wynik = 0)\n"
      ]
    },
    {
      "cell_type": "markdown",
      "metadata": {
        "id": "Kp6Lqn2uF6TJ"
      },
      "source": [
        "Przygotowujemy liczniki:"
      ]
    },
    {
      "cell_type": "code",
      "metadata": {
        "id": "G4ng7S-TF6TJ"
      },
      "source": [
        "TP = 0 \n",
        "TN = 0\n",
        "FP = 0 \n",
        "FN = 0"
      ],
      "execution_count": null,
      "outputs": []
    },
    {
      "cell_type": "markdown",
      "metadata": {
        "id": "jww4GQF-F6TM"
      },
      "source": [
        " W pętli odkładamy przykład `v` do testowania:"
      ]
    },
    {
      "cell_type": "code",
      "metadata": {
        "id": "5u2Di0sXF6TN"
      },
      "source": [
        "for v in range(len(y)):\n",
        "    testX = XX[v]\n",
        "    testY = y[v]\n",
        "    # robimy zredukowany zbiór uczący przez usunięcie przykładu v\n",
        "    uczX = np.delete(XX,v,axis=0)\n",
        "    uczY = np.delete(y,v)\n",
        "    # uczymy regresję na zredukowanym zbiorze uczącym\n",
        "    theta_opt = so.fmin_bfgs(minusFunkcjaLogWiarygodnosci, theta0,\n",
        "                             fprime=minusPochodnaLogWiarygodnosci, \n",
        "                             args=(..., ...), disp= False)\n",
        "   # klasyfikujemy odłożony przykład : proszę uzupełnić funkcję klasyfikacja na początku pliku\n",
        "    wynik = klasyfikacja(... , ...)\n",
        "    # aktualizujemy liczniki; proszę uzupełnić kod:\n",
        "    if testY == 1 and wynik == 1:\n",
        "            ... += 1\n",
        "    if testY == 1 and wynik == 0:\n",
        "            ... +=1           \n",
        "    if testY == 0 and wynik == 1:\n",
        "            ... +=1\n",
        "    if testY == 0 and wynik == 0:\n",
        "            ... +=1\n",
        "print('TP: ', TP)\n",
        "print('FP: ', FP)\n",
        "print('TN: ', TN)\n",
        "print('FN: ', FN)"
      ],
      "execution_count": null,
      "outputs": []
    },
    {
      "cell_type": "markdown",
      "metadata": {
        "id": "brZS-946F6TP"
      },
      "source": [
        "Dla naszego zbioru uczącego powinniśmy uzyskać:\n",
        "```\n",
        "TP:  55\n",
        "FP:  6\n",
        "TN:  34\n",
        "FN:  5\n",
        "```"
      ]
    },
    {
      "cell_type": "markdown",
      "metadata": {
        "id": "0UNsb51DF6TQ"
      },
      "source": [
        "## Krzywa ROC\n",
        "\n",
        "Aby wykreślić krzywą ROC należy przeprowadzić klasyfikację dla wielu możliwych wartości progu dla hipotezy, powyżej którego uznajemy przypadek za należący do klasy 1.\n",
        "\n",
        "\n",
        "Modyfikujemy funkcję klasyfikacja, tak aby wynik zależał też od progu:"
      ]
    },
    {
      "cell_type": "code",
      "metadata": {
        "id": "yZxsuikJF6TR"
      },
      "source": [
        "def klasyfikacjaProg(testX, theta,prog):\n",
        "    h = hipoteza(testX, theta)\n",
        "    if h > prog:\n",
        "        klasa = ...\n",
        "    else:\n",
        "        klasa = ...\n",
        "    return klasa"
      ],
      "execution_count": null,
      "outputs": []
    },
    {
      "cell_type": "markdown",
      "metadata": {
        "id": "9d837ancF6TT"
      },
      "source": [
        "Funkcję tą możemy wykorzystać do obliczenia liczebności poszczególnych przypadków klasyfikacji w zależności od progu:"
      ]
    },
    {
      "cell_type": "code",
      "metadata": {
        "id": "j1xNfmQkF6TU"
      },
      "source": [
        "def liczROC(XX,y,progi):\n",
        "    '''funkcja oblicza FPR i TPR dla zadanych progów,\n",
        "       progi dla których mają być wyliczone wyniki podajemy w postaci wektora\n",
        "       '''\n",
        "    TP = np.zeros(len(progi))\n",
        "    TN = np.zeros(len(progi))\n",
        "    FP = np.zeros(len(progi))\n",
        "    FN = np.zeros(len(progi))\n",
        "    f = FloatProgress(min=0, max=len(y))\n",
        "    display(f)\n",
        "    for v in range(len(y)):\n",
        "        f.value+=1\n",
        "        \n",
        "        testX = XX[v]\n",
        "        testY = y[v]\n",
        "        tenX = np.delete(XX,v,axis=0)\n",
        "        tenY = np.delete(y,v)\n",
        "        theta_opt = so.fmin_bfgs(minusFunkcjaLogWiarygodnosci, theta0, \n",
        "                                 fprime=minusPochodnaLogWiarygodnosci, \n",
        "                                 args=(tenX,tenY), disp= False)\n",
        "        for ind, prog in enumerate(progi):\n",
        "            wynik = klasyfikacjaProg(testX, theta_opt,prog)\n",
        "           #==========================\n",
        "           #      tu wstaw odpowiedni kawałek kodu\n",
        "           #==========================\n",
        "            ...\n",
        "            \n",
        "    TPR = TP/(TP+FN)\n",
        "    FPR = FP/(FP+TN) \n",
        "    return (FPR,TPR)\n"
      ],
      "execution_count": null,
      "outputs": []
    },
    {
      "cell_type": "markdown",
      "metadata": {
        "id": "z479ZNuxF6TW"
      },
      "source": [
        "Do wykreślenia krzywej ROC możesz użyć następującego kodu. Zaznaczamy w nim na wykresie wartości progów dla których osiągnięto konkretne wartości FPR i TPR."
      ]
    },
    {
      "cell_type": "code",
      "metadata": {
        "id": "zZ1Gp7iLF6TX"
      },
      "source": [
        "progi = np.arange(0.0,1.1,0.1)\n",
        "FPR,TPR= liczROC(XX,y,progi)\n",
        "plt.figure()\n",
        "plt.plot(FPR,TPR,'o')\n",
        "plt.plot(FPR,TPR)\n",
        "for ind,pr in enumerate(progi):\n",
        "    plt.text(FPR[ind],TPR[ind],str(pr))\n",
        "plt.xlabel('FPR')\n",
        "plt.ylabel('TPR')\n",
        "plt.xlim((0,1))\n",
        "plt.ylim((0,1))\n",
        "plt.show()"
      ],
      "execution_count": null,
      "outputs": []
    },
    {
      "cell_type": "markdown",
      "metadata": {
        "id": "1CW5SdnzF6TZ"
      },
      "source": [
        "Policzmy jeszcze pole pod krzywą ROC, tzw. AUC (area under curve), za pomocą metody trapezów: "
      ]
    },
    {
      "cell_type": "code",
      "metadata": {
        "id": "sBa2-WN_F6TZ"
      },
      "source": [
        "AUC = 0\n",
        "for ind in range(len(progi)-1):\n",
        "    a = ...\n",
        "    b = ...\n",
        "    h = ...\n",
        "    AUC += 0.5*(a+b)*h\n",
        "print('AUC: ',AUC)"
      ],
      "execution_count": null,
      "outputs": []
    },
    {
      "cell_type": "markdown",
      "metadata": {
        "id": "otc0fTTzF6Tc"
      },
      "source": [
        "Spodziewamy się wyniku:\n",
        "```\n",
        "AUC:  0.9375\n",
        "```"
      ]
    }
  ]
}