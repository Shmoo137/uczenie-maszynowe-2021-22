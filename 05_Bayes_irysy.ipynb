{
  "nbformat": 4,
  "nbformat_minor": 0,
  "metadata": {
    "colab": {
      "name": "[Template] 05_Bayes_irysy.ipynb",
      "provenance": [],
      "collapsed_sections": []
    },
    "kernelspec": {
      "display_name": "Python [default]",
      "language": "python",
      "name": "python3"
    }
  },
  "cells": [
    {
      "cell_type": "code",
      "metadata": {
        "id": "Gq4B3HvSZ7fU"
      },
      "source": [
        "import matplotlib\n",
        "%matplotlib inline\n",
        "matplotlib.rcParams['figure.figsize']=(15,8)\n"
      ],
      "execution_count": null,
      "outputs": []
    },
    {
      "cell_type": "markdown",
      "metadata": {
        "id": "g6aMBGt6Z7fY"
      },
      "source": [
        "# Naiwny klasyfikator Bayesa\n",
        "\n",
        "Z klasyfikatorem tym zapoznamy się próbując klasyfikować gatunki irysów. Jest to klasyczny już problem, często wykorzystywany przy porównywaniu różnych technik klasyfikacji. Więcej o pochodzeniu tych danych i problemie można przeczytać tu [https://en.wikipedia.org/wiki/Iris_flower_data_set]\n",
        "\n",
        "Kod napiszemy w oparciu o implementacje klasyfikatora Bayesa z biblioteki <tt>scikit-learn</tt> [http://scikit-learn.org/stable/about.html#citing-scikit-learn]\n",
        "\n",
        "Zaczerpniemy stamtąd:\n",
        "* obiekt klasyfikatora <tt>GaussianNB</tt>\n",
        "* zbiór danych\n",
        "* funkcje do oceny jakości "
      ]
    },
    {
      "cell_type": "markdown",
      "metadata": {
        "id": "_yOp4madZ7fZ"
      },
      "source": [
        "Na razie importujemy:"
      ]
    },
    {
      "cell_type": "code",
      "metadata": {
        "id": "vgv3tI12Z7fa"
      },
      "source": [
        "from sklearn import datasets\n",
        "import matplotlib.pyplot as plt\n",
        "import numpy as np"
      ],
      "execution_count": null,
      "outputs": []
    },
    {
      "cell_type": "markdown",
      "metadata": {
        "id": "6R48NZA7Z7fh"
      },
      "source": [
        "## Zbiór danych irys\n",
        "Zapoznajemy się z danymi i wybieramy ich podzbiór do dalszej zabawy."
      ]
    },
    {
      "cell_type": "markdown",
      "metadata": {
        "id": "UFK-4Ph7Z7fh"
      },
      "source": [
        "Ładujemy dane"
      ]
    },
    {
      "cell_type": "code",
      "metadata": {
        "id": "42SLWGQBZ7fi"
      },
      "source": [
        "iris = datasets.load_iris() #https://en.wikipedia.org/wiki/Iris_flower_data_set"
      ],
      "execution_count": null,
      "outputs": []
    },
    {
      "cell_type": "markdown",
      "metadata": {
        "id": "GAEWybxwZ7fl"
      },
      "source": [
        "Zobaczmy co ten zbiór ma w środku:"
      ]
    },
    {
      "cell_type": "code",
      "metadata": {
        "id": "8IihOS07Z7fm"
      },
      "source": [
        "print(dir(iris))"
      ],
      "execution_count": null,
      "outputs": []
    },
    {
      "cell_type": "markdown",
      "metadata": {
        "id": "JPZBOgBxZ7fs"
      },
      "source": [
        "Wypiszemy sobie opis danych:"
      ]
    },
    {
      "cell_type": "code",
      "metadata": {
        "id": "LR22U62NZ7fs"
      },
      "source": [
        "print(iris['DESCR'])"
      ],
      "execution_count": null,
      "outputs": []
    },
    {
      "cell_type": "markdown",
      "metadata": {
        "id": "-qkkkTzgZ7fw"
      },
      "source": [
        "Wypiszmy nazwy gatunków:"
      ]
    },
    {
      "cell_type": "code",
      "metadata": {
        "id": "dM4sQ9s_Z7fx"
      },
      "source": [
        "print(iris['target_names'])"
      ],
      "execution_count": null,
      "outputs": []
    },
    {
      "cell_type": "markdown",
      "metadata": {
        "id": "EYM_0H6AZ7f1"
      },
      "source": [
        "Wypiszmy nazwy cech:"
      ]
    },
    {
      "cell_type": "code",
      "metadata": {
        "id": "N-ZoaV6sZ7f2"
      },
      "source": [
        "print(iris['feature_names'])"
      ],
      "execution_count": null,
      "outputs": []
    },
    {
      "cell_type": "markdown",
      "metadata": {
        "id": "V-_83R_CZ7f5"
      },
      "source": [
        "Wypiszmy kodowanie gatunków. To są wyjścia, które chcielibyśmy uzyskać od wytrenowanego klasyfikatora:"
      ]
    },
    {
      "cell_type": "code",
      "metadata": {
        "id": "rs6J2LBVZ7f6"
      },
      "source": [
        "print(iris['target'])"
      ],
      "execution_count": null,
      "outputs": []
    },
    {
      "cell_type": "markdown",
      "metadata": {
        "id": "iwNEvTXQZ7gA"
      },
      "source": [
        "Wypiszmy wartości cech. Są to dane wejściowe do klasyfkiacji. "
      ]
    },
    {
      "cell_type": "code",
      "metadata": {
        "id": "7secdC2uZ7gA"
      },
      "source": [
        "print(iris['data'])"
      ],
      "execution_count": null,
      "outputs": []
    },
    {
      "cell_type": "markdown",
      "metadata": {
        "id": "a3TCsNIyZ7gE"
      },
      "source": [
        "Zatem, np. obserwacja nr 5 ma cechy:"
      ]
    },
    {
      "cell_type": "code",
      "metadata": {
        "id": "QUWwl7w0Z7gF"
      },
      "source": [
        "print(iris.data[5,:])"
      ],
      "execution_count": null,
      "outputs": []
    },
    {
      "cell_type": "markdown",
      "metadata": {
        "id": "mPJTZoGqZ7gJ"
      },
      "source": [
        "i ma przypisaną klasę:"
      ]
    },
    {
      "cell_type": "code",
      "metadata": {
        "id": "Cs7o4JtcZ7gK"
      },
      "source": [
        "print(iris.target[5])"
      ],
      "execution_count": null,
      "outputs": []
    },
    {
      "cell_type": "markdown",
      "metadata": {
        "id": "FdTaCybgZ7gQ"
      },
      "source": [
        "Czyli jest to gatunek:"
      ]
    },
    {
      "cell_type": "code",
      "metadata": {
        "id": "oPjGr9meZ7gR"
      },
      "source": [
        "print(iris.target_names[iris.target[5]])"
      ],
      "execution_count": null,
      "outputs": []
    },
    {
      "cell_type": "markdown",
      "metadata": {
        "id": "qVa4NHQ4Z7gX"
      },
      "source": [
        "## Ilustrowanie własności zbioru danych"
      ]
    },
    {
      "cell_type": "markdown",
      "metadata": {
        "id": "iOF6SXcoZ7gX"
      },
      "source": [
        "Do rysowania zależniści między cechami i klasami przyda nam się własną mapę kolorów:"
      ]
    },
    {
      "cell_type": "code",
      "metadata": {
        "id": "y2dlvcxhZ7gZ"
      },
      "source": [
        "color_map = {-1: (1, 1, 1), 0: (0, 0, .9), 1: (1, 0, 0), 2: (.5, .5, 0)}"
      ],
      "execution_count": null,
      "outputs": []
    },
    {
      "cell_type": "markdown",
      "metadata": {
        "id": "dd99qOSZZ7gb"
      },
      "source": [
        "Wytwarzamy wektor, który każdemu wierszowi w tabeli danych przypisze kolor odpowiadający gatunkowi irysa"
      ]
    },
    {
      "cell_type": "code",
      "metadata": {
        "id": "kcrKjYkZZ7gb"
      },
      "source": [
        "colors = [color_map[y] for y in iris.target]"
      ],
      "execution_count": null,
      "outputs": []
    },
    {
      "cell_type": "markdown",
      "metadata": {
        "id": "-77CE_gBZ7gd"
      },
      "source": [
        "### Aby przyjrzeć się zbiorowi danych warto zbadać: \n",
        "#### 1) Rozkłady cech w klasach: \n",
        "* np. histogramy. Proszę wykreślić histogramy rozkładu cech w poszczególnych klasach:"
      ]
    },
    {
      "cell_type": "code",
      "metadata": {
        "id": "Wd8y0wkrZ7ge"
      },
      "source": [
        "plt.figure()\n",
        "for f, f_name in enumerate(iris['feature_names']):\n",
        "    plt.subplot(1,4,f+1)\n",
        "    for k in range(3): # k - klasa\n",
        "        plt.hist(iris.data[iris.target==k,f],color=color_map[k],alpha=0.3,bins=np.arange(0,8,0.2))\n",
        "    plt.xlabel(str(f)+' '+ f_name)\n",
        "plt.show() "
      ],
      "execution_count": null,
      "outputs": []
    },
    {
      "cell_type": "markdown",
      "metadata": {
        "id": "BDHoqwvpZ7gh"
      },
      "source": [
        "Violinplot"
      ]
    },
    {
      "cell_type": "code",
      "metadata": {
        "id": "0OiR1-7ZZ7gh"
      },
      "source": [
        "plt.figure()\n",
        "for f, f_name in enumerate(iris['feature_names']):\n",
        "    plt.subplot(1,4,f+1)\n",
        "    data = np.zeros((50,3))\n",
        "    for k in range(3): #\n",
        "        data[:,k] = iris.data[iris.target==k,f]      \n",
        "    plt.violinplot(data)\n",
        "    plt.xlabel(str(f)+' '+ f_name)\n",
        "plt.show() "
      ],
      "execution_count": null,
      "outputs": []
    },
    {
      "cell_type": "markdown",
      "metadata": {
        "id": "Wam5SdznZ7gk"
      },
      "source": [
        "#### Strukturę korelacji\n",
        "Tu zwróćmy uwagę na orientację macierzy podawanej do funkcji `np.cov`:"
      ]
    },
    {
      "cell_type": "code",
      "metadata": {
        "id": "WPNhSZOPZ7gl"
      },
      "source": [
        "rho = np.cov(iris.data.T)\n",
        "print(rho.shape)\n",
        "plt.figure()\n",
        "plt.matshow(rho)\n",
        "plt.colorbar()\n",
        "plt.show()"
      ],
      "execution_count": null,
      "outputs": []
    },
    {
      "cell_type": "markdown",
      "metadata": {
        "id": "thPoxyz0Z7go"
      },
      "source": [
        "Stukturę korelacji i rozkłady można też podsumować na takim rysunku:\n",
        "* w siatce prostokątnej rysujemy \n",
        "  * na przekątnej histogramy grupoweane, lub violinploty\n",
        "  * pod przekątną wykres punktowy (scaterplot)"
      ]
    },
    {
      "cell_type": "code",
      "metadata": {
        "id": "aCys9gtYZ7gr"
      },
      "source": [
        "plt.figure(1)\n",
        "for i, name_i in enumerate(iris['feature_names']):\n",
        "    for j, name_j in enumerate(iris['feature_names']):\n",
        "        \n",
        "        if i>j:\n",
        "            plt.subplot(4,4,i*4+j+1) # i numeruje wiersze, j kolumny\n",
        "            plt.scatter(iris.data[:,j],iris.data[:,i],c = colors)\n",
        "            \n",
        "        elif i==j:\n",
        "            plt.subplot(4,4,i*4+j+1) # i numeruje wiersze, j kolumny\n",
        "            for k in range(3):\n",
        "                plt.hist(iris.data[iris.target==k,j],color=color_map[k],alpha=0.3)\n",
        "        if j ==0:\n",
        "            plt.ylabel(name_i)\n",
        "        if i ==3:\n",
        "            plt.xlabel(name_j)\n",
        "plt.show()"
      ],
      "execution_count": null,
      "outputs": []
    },
    {
      "cell_type": "markdown",
      "metadata": {
        "id": "Dhlnmd_TZ7gt"
      },
      "source": [
        "## Szykujemy się do zbudowania klasyfikatora\n",
        "Aby było nam łatwo ilustrować jego działanie wybieramy dwie cechy (podziały przestrzeni cech da się wtedy łatwo narysować na płaszczyźnie)\n",
        "\n",
        "* Wybieramy cechy 1 i 2 (bo są ze sobą mało skorelowane) normalizujemy je"
      ]
    },
    {
      "cell_type": "code",
      "metadata": {
        "id": "87MgbHRQZ7gu"
      },
      "source": [
        "X = np.zeros((iris.data.shape[0],2))\n",
        "X[:,0] = (iris.data[:,1] - np.mean(iris.data[:,1]))/np.std(iris.data[:,1])\n",
        "X[:,1] = (iris.data[:,2] - np.mean(iris.data[:,2]))/np.std(iris.data[:,2])  \n",
        "plt.figure(2)\n",
        "plt.scatter(X[:,0],X[:,1],c = colors)  \n",
        "plt.title('Wybrane cechy po normalizacji')\n",
        "plt.show()"
      ],
      "execution_count": null,
      "outputs": []
    },
    {
      "cell_type": "markdown",
      "metadata": {
        "id": "nwYjluymsMey"
      },
      "source": [
        "Przyda nam się funkcja do wizualizacji dwuwymiarowych gaussów:"
      ]
    },
    {
      "cell_type": "code",
      "metadata": {
        "id": "fqyqrgqjsSkt"
      },
      "source": [
        "def plot_gauss(mu,sigma,xx,yy):\n",
        "    ''' Funkcja rysująca kontury funkcji gęstości prawdopodobieństwa \n",
        "       dwuwymiarowego rozkładu Gaussa'''\n",
        "\n",
        "    XX = np.c_[xx.ravel(), yy.ravel()]    \n",
        "    R = XX - mu \n",
        "    invS = np.linalg.inv(np.diag(sigma))\n",
        "    z = np.zeros(len(R))\n",
        "    for i in range(len(R)):\n",
        "        z[i] = np.exp(-0.5*np.dot( R[i,:].T,np.dot(invS,R[i,:])))\n",
        "    z.shape = xx.shape\n",
        "    #plt.figure()\n",
        "    plt.contourf(xx,yy,z,alpha = 0.5)\n",
        "    plt.plot(mu[0],mu[1],'o')\n",
        "    #plt.show()"
      ],
      "execution_count": null,
      "outputs": []
    },
    {
      "cell_type": "markdown",
      "metadata": {
        "id": "f9td9_EHZ7gw"
      },
      "source": [
        "## Tworzymy i uczymy klasyfikator\n",
        "Poniżej znajduje się kod służący klasyfikacji. Proszę go uzupełnić zgodnie z komentarzami i dokumentacją:\n",
        "\n",
        "https://scikit-learn.org/stable/modules/naive_bayes.html\n",
        "\n",
        "https://scikit-learn.org/stable/modules/generated/sklearn.naive_bayes.GaussianNB.html"
      ]
    },
    {
      "cell_type": "code",
      "metadata": {
        "id": "k86LhFVMZ7gx"
      },
      "source": [
        "from sklearn.naive_bayes import GaussianNB\n",
        "gnb = ... # stwórz instancję klasyfikatora Gaussian Naive Bayes \n",
        "... # dofituj parametry klasyfikatora "
      ],
      "execution_count": null,
      "outputs": []
    },
    {
      "cell_type": "markdown",
      "metadata": {
        "id": "eatL-qfbZ7g0"
      },
      "source": [
        "#### Przedstaw rozkłady Gaussa, które zostały dopasowane do danych, skorzystaj z funkcji plot_gauss()\n",
        "* średnie tych rozkładów są w gnb.theta_\n",
        "* standardowe odchylenia są w gnb.sigma_\n",
        "\n",
        "Przygotowanie siatki na której będą rysowane kontury Gaussów"
      ]
    },
    {
      "cell_type": "code",
      "metadata": {
        "id": "jl5R2ofEZ7g0"
      },
      "source": [
        "x_min, x_max = -3,3\n",
        "y_min, y_max = -3,3\n",
        "xx, yy = np.meshgrid(np.arange(x_min, x_max, 0.1),\n",
        "                     np.arange(y_min, y_max, 0.1))\n",
        "plt.figure(4)\n",
        "for i in range(3):\n",
        "    plot_gauss(...,...,xx,yy)\n",
        "# dorzućmy do rysunku jeszcze oryginalne dane\n",
        "plt.scatter(...,...,c = colors)\n",
        "plt.title(u'Rozkłady Gaussa dopasowane do danych')\n",
        "plt.show()        "
      ],
      "execution_count": null,
      "outputs": []
    },
    {
      "cell_type": "markdown",
      "metadata": {
        "id": "fff8gKKmZ7g3"
      },
      "source": [
        "## Rysowanie wyników klasyfikacji             \n",
        "Przekształcamy siatkę w macierz dwukolumnową - kolumny odpowiadają cechom"
      ]
    },
    {
      "cell_type": "code",
      "metadata": {
        "id": "Y8au8zRHZ7g5"
      },
      "source": [
        "XX = np.c_[xx.ravel(), yy.ravel()]       "
      ],
      "execution_count": null,
      "outputs": []
    },
    {
      "cell_type": "markdown",
      "metadata": {
        "id": "-C2WorUnZ7g7"
      },
      "source": [
        "Dla każdego punktu siatki oblicz predykcję klasyfikatora  "
      ]
    },
    {
      "cell_type": "code",
      "metadata": {
        "id": "W3OGd-70Z7g8"
      },
      "source": [
        "Z = ...."
      ],
      "execution_count": null,
      "outputs": []
    },
    {
      "cell_type": "markdown",
      "metadata": {
        "id": "K1kVo72aZ7g-"
      },
      "source": [
        "Te predykcje narysujemy w przestrzeni cech za pomocą funkcji  plt.contourf "
      ]
    },
    {
      "cell_type": "code",
      "metadata": {
        "id": "cWHEHs8rZ7g-"
      },
      "source": [
        "plt.figure(3)\n",
        "Z = Z.reshape(xx.shape)\n",
        "plt.contourf(..., ..., ..., cmap=plt.cm.Paired)\n",
        "# i dorzucamy oryginalne punkty\n",
        "plt.scatter...\n",
        "plt.title(u'Podział przestrzeni cech na klasy')\n",
        "plt.show()"
      ],
      "execution_count": null,
      "outputs": []
    },
    {
      "cell_type": "markdown",
      "metadata": {
        "id": "80bCH4F5Z7hB"
      },
      "source": [
        "## Ewaluacja modelu\n",
        "Teraz zajmiemy się ewaluacją dopasowanego modelu (walidacja krzyżowa). Skorzystamy z funkcji dostrczanych przez [Model evaluation](http://scikit-learn.org/stable/modules/model_evaluation.html)\n",
        "* upewnij się, że dokładnie rozumiesz co zwracają te funkcje\n",
        "* porównaj z definicjami z [wykładu](http://haar.zfb.fuw.edu.pl/edu/index.php/Uczenie_maszynowe_i_sztuczne_sieci_neuronowe/Wykład_Ocena_jakości_klasyfikacji) "
      ]
    },
    {
      "cell_type": "code",
      "metadata": {
        "id": "ZGF38VWxZ7hC"
      },
      "source": [
        "from sklearn.metrics import classification_report, confusion_matrix\n",
        "...\n",
        "print(\"classification report:\")\n",
        "print(classification_report...)\n",
        "print(\"confusion matrix:\")\n",
        "print(confusion_matrix...)"
      ],
      "execution_count": null,
      "outputs": []
    },
    {
      "cell_type": "markdown",
      "metadata": {
        "id": "DQd-aixOZ7hE"
      },
      "source": [
        "## Porównanie  modeli\n",
        "Stwórz trzy modele klasyfikatorów:\n",
        "* pierwszym niech będzie korzystał z cech 1 i 2 (nasz dotychczasowy model)\n",
        "* drugim niech korzysta tylko z cech 0 i 1\n",
        "* trzeci niech korzysta ze wszytkich 4 cech\n",
        "\n",
        "Porównaj miary jakości tych modeli otrzymywane za pomocą walidacji krzyżowej.\n",
        "\n",
        "* Trzeci model można też stworzyć dla danych normalizowanych i nienormalizowanych, aby sprzwdzić czy normalizacja w tym przypadku pomaga w prawidłowej klasyfikacji."
      ]
    },
    {
      "cell_type": "code",
      "metadata": {
        "id": "XTUhTx4mZ7hG"
      },
      "source": [
        "..."
      ],
      "execution_count": null,
      "outputs": []
    }
  ]
}